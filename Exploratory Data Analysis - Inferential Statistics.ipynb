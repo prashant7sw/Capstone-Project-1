{
 "cells": [
  {
   "cell_type": "markdown",
   "metadata": {},
   "source": [
    "# Exploratory Data Analysis"
   ]
  },
  {
   "cell_type": "code",
   "execution_count": 1,
   "metadata": {},
   "outputs": [
    {
     "name": "stderr",
     "output_type": "stream",
     "text": [
      "\n",
      "Bad key \"text.kerning_factor\" on line 4 in\n",
      "/Users/prashantsingh/opt/anaconda3/lib/python3.7/site-packages/matplotlib/mpl-data/stylelib/_classic_test_patch.mplstyle.\n",
      "You probably need to get an updated matplotlibrc file from\n",
      "https://github.com/matplotlib/matplotlib/blob/v3.1.3/matplotlibrc.template\n",
      "or from the matplotlib source distribution\n"
     ]
    }
   ],
   "source": [
    "#load the standard library\n",
    "import pandas as pd\n",
    "import numpy as np\n",
    "import matplotlib.pyplot as plt\n",
    "import seaborn as sns\n",
    "\n",
    "from scipy import stats\n"
   ]
  },
  {
   "cell_type": "code",
   "execution_count": 2,
   "metadata": {},
   "outputs": [
    {
     "data": {
      "text/html": [
       "<div>\n",
       "<style scoped>\n",
       "    .dataframe tbody tr th:only-of-type {\n",
       "        vertical-align: middle;\n",
       "    }\n",
       "\n",
       "    .dataframe tbody tr th {\n",
       "        vertical-align: top;\n",
       "    }\n",
       "\n",
       "    .dataframe thead th {\n",
       "        text-align: right;\n",
       "    }\n",
       "</style>\n",
       "<table border=\"1\" class=\"dataframe\">\n",
       "  <thead>\n",
       "    <tr style=\"text-align: right;\">\n",
       "      <th></th>\n",
       "      <th>neighbourhood_group</th>\n",
       "      <th>neighbourhood</th>\n",
       "      <th>latitude</th>\n",
       "      <th>longitude</th>\n",
       "      <th>room_type</th>\n",
       "      <th>price</th>\n",
       "      <th>minimum_nights</th>\n",
       "      <th>number_of_reviews</th>\n",
       "      <th>last_review</th>\n",
       "      <th>reviews_per_month</th>\n",
       "      <th>calculated_host_listings_count</th>\n",
       "      <th>availability_365</th>\n",
       "      <th>price_new</th>\n",
       "      <th>number_of_reviews_new</th>\n",
       "      <th>reviews_per_month_new</th>\n",
       "      <th>calculated_host_listings_count_new</th>\n",
       "      <th>availability_365_new</th>\n",
       "    </tr>\n",
       "  </thead>\n",
       "  <tbody>\n",
       "    <tr>\n",
       "      <th>0</th>\n",
       "      <td>Brooklyn</td>\n",
       "      <td>Kensington</td>\n",
       "      <td>40.64749</td>\n",
       "      <td>-73.97237</td>\n",
       "      <td>Private room</td>\n",
       "      <td>149</td>\n",
       "      <td>1</td>\n",
       "      <td>9</td>\n",
       "      <td>2018-10-19</td>\n",
       "      <td>0.21</td>\n",
       "      <td>6</td>\n",
       "      <td>365</td>\n",
       "      <td>149.0</td>\n",
       "      <td>9.0</td>\n",
       "      <td>0.21</td>\n",
       "      <td>5.0</td>\n",
       "      <td>365.0</td>\n",
       "    </tr>\n",
       "    <tr>\n",
       "      <th>1</th>\n",
       "      <td>Manhattan</td>\n",
       "      <td>Midtown</td>\n",
       "      <td>40.75362</td>\n",
       "      <td>-73.98377</td>\n",
       "      <td>Entire home/apt</td>\n",
       "      <td>225</td>\n",
       "      <td>1</td>\n",
       "      <td>45</td>\n",
       "      <td>2019-05-21</td>\n",
       "      <td>0.38</td>\n",
       "      <td>2</td>\n",
       "      <td>355</td>\n",
       "      <td>225.0</td>\n",
       "      <td>45.0</td>\n",
       "      <td>0.38</td>\n",
       "      <td>2.0</td>\n",
       "      <td>355.0</td>\n",
       "    </tr>\n",
       "    <tr>\n",
       "      <th>2</th>\n",
       "      <td>Manhattan</td>\n",
       "      <td>Harlem</td>\n",
       "      <td>40.80902</td>\n",
       "      <td>-73.94190</td>\n",
       "      <td>Private room</td>\n",
       "      <td>150</td>\n",
       "      <td>3</td>\n",
       "      <td>0</td>\n",
       "      <td>0</td>\n",
       "      <td>0.00</td>\n",
       "      <td>1</td>\n",
       "      <td>365</td>\n",
       "      <td>150.0</td>\n",
       "      <td>0.0</td>\n",
       "      <td>0.00</td>\n",
       "      <td>1.0</td>\n",
       "      <td>365.0</td>\n",
       "    </tr>\n",
       "    <tr>\n",
       "      <th>3</th>\n",
       "      <td>Brooklyn</td>\n",
       "      <td>Clinton Hill</td>\n",
       "      <td>40.68514</td>\n",
       "      <td>-73.95976</td>\n",
       "      <td>Entire home/apt</td>\n",
       "      <td>89</td>\n",
       "      <td>1</td>\n",
       "      <td>270</td>\n",
       "      <td>2019-07-05</td>\n",
       "      <td>4.64</td>\n",
       "      <td>1</td>\n",
       "      <td>194</td>\n",
       "      <td>89.0</td>\n",
       "      <td>70.0</td>\n",
       "      <td>3.00</td>\n",
       "      <td>1.0</td>\n",
       "      <td>194.0</td>\n",
       "    </tr>\n",
       "    <tr>\n",
       "      <th>4</th>\n",
       "      <td>Manhattan</td>\n",
       "      <td>East Harlem</td>\n",
       "      <td>40.79851</td>\n",
       "      <td>-73.94399</td>\n",
       "      <td>Entire home/apt</td>\n",
       "      <td>80</td>\n",
       "      <td>10</td>\n",
       "      <td>9</td>\n",
       "      <td>2018-11-19</td>\n",
       "      <td>0.10</td>\n",
       "      <td>1</td>\n",
       "      <td>0</td>\n",
       "      <td>80.0</td>\n",
       "      <td>9.0</td>\n",
       "      <td>0.10</td>\n",
       "      <td>1.0</td>\n",
       "      <td>0.0</td>\n",
       "    </tr>\n",
       "  </tbody>\n",
       "</table>\n",
       "</div>"
      ],
      "text/plain": [
       "  neighbourhood_group neighbourhood  latitude  longitude        room_type  \\\n",
       "0            Brooklyn    Kensington  40.64749  -73.97237     Private room   \n",
       "1           Manhattan       Midtown  40.75362  -73.98377  Entire home/apt   \n",
       "2           Manhattan        Harlem  40.80902  -73.94190     Private room   \n",
       "3            Brooklyn  Clinton Hill  40.68514  -73.95976  Entire home/apt   \n",
       "4           Manhattan   East Harlem  40.79851  -73.94399  Entire home/apt   \n",
       "\n",
       "   price  minimum_nights  number_of_reviews last_review  reviews_per_month  \\\n",
       "0    149               1                  9  2018-10-19               0.21   \n",
       "1    225               1                 45  2019-05-21               0.38   \n",
       "2    150               3                  0           0               0.00   \n",
       "3     89               1                270  2019-07-05               4.64   \n",
       "4     80              10                  9  2018-11-19               0.10   \n",
       "\n",
       "   calculated_host_listings_count  availability_365  price_new  \\\n",
       "0                               6               365      149.0   \n",
       "1                               2               355      225.0   \n",
       "2                               1               365      150.0   \n",
       "3                               1               194       89.0   \n",
       "4                               1                 0       80.0   \n",
       "\n",
       "   number_of_reviews_new  reviews_per_month_new  \\\n",
       "0                    9.0                   0.21   \n",
       "1                   45.0                   0.38   \n",
       "2                    0.0                   0.00   \n",
       "3                   70.0                   3.00   \n",
       "4                    9.0                   0.10   \n",
       "\n",
       "   calculated_host_listings_count_new  availability_365_new  \n",
       "0                                 5.0                 365.0  \n",
       "1                                 2.0                 355.0  \n",
       "2                                 1.0                 365.0  \n",
       "3                                 1.0                 194.0  \n",
       "4                                 1.0                   0.0  "
      ]
     },
     "execution_count": 2,
     "metadata": {},
     "output_type": "execute_result"
    }
   ],
   "source": [
    "#load the dataset\n",
    "df1=pd.read_csv(\"./Stats.csv\")\n",
    "df1.head()"
   ]
  },
  {
   "cell_type": "code",
   "execution_count": 3,
   "metadata": {},
   "outputs": [
    {
     "name": "stdout",
     "output_type": "stream",
     "text": [
      "<class 'pandas.core.frame.DataFrame'>\n",
      "RangeIndex: 48895 entries, 0 to 48894\n",
      "Data columns (total 17 columns):\n",
      " #   Column                              Non-Null Count  Dtype  \n",
      "---  ------                              --------------  -----  \n",
      " 0   neighbourhood_group                 48895 non-null  object \n",
      " 1   neighbourhood                       48895 non-null  object \n",
      " 2   latitude                            48895 non-null  float64\n",
      " 3   longitude                           48895 non-null  float64\n",
      " 4   room_type                           48895 non-null  object \n",
      " 5   price                               48895 non-null  int64  \n",
      " 6   minimum_nights                      48895 non-null  int64  \n",
      " 7   number_of_reviews                   48895 non-null  int64  \n",
      " 8   last_review                         48895 non-null  object \n",
      " 9   reviews_per_month                   48895 non-null  float64\n",
      " 10  calculated_host_listings_count      48895 non-null  int64  \n",
      " 11  availability_365                    48895 non-null  int64  \n",
      " 12  price_new                           48895 non-null  float64\n",
      " 13  number_of_reviews_new               48895 non-null  float64\n",
      " 14  reviews_per_month_new               48895 non-null  float64\n",
      " 15  calculated_host_listings_count_new  48895 non-null  float64\n",
      " 16  availability_365_new                48895 non-null  float64\n",
      "dtypes: float64(8), int64(5), object(4)\n",
      "memory usage: 6.3+ MB\n"
     ]
    }
   ],
   "source": [
    "df1.info()"
   ]
  },
  {
   "cell_type": "markdown",
   "metadata": {},
   "source": [
    "# Hypothesis Testing"
   ]
  },
  {
   "cell_type": "markdown",
   "metadata": {},
   "source": [
    "# ttest for mean of prices (Manhattan and Brooklyn)"
   ]
  },
  {
   "cell_type": "markdown",
   "metadata": {},
   "source": [
    "Calculate the T-test for the means of two independent samples of scores.\n",
    "\n",
    "This is a two-sided test for the null hypothesis that 2 independent samples have identical average (expected) values. This test assumes that the populations have identical variances by default."
   ]
  },
  {
   "cell_type": "code",
   "execution_count": 4,
   "metadata": {},
   "outputs": [],
   "source": [
    "#H0 : the null hypothesis in this dataset where, mean(Manhattan) = mean(Brooklyn) significantly similar.\n",
    "#H1 : the alternative hypothesis in this dataset where, mean(Manhattan) != mean(Brooklyn) significantly different."
   ]
  },
  {
   "cell_type": "code",
   "execution_count": 5,
   "metadata": {},
   "outputs": [],
   "source": [
    "price_M=df1[df1[\"neighbourhood_group\"]=='Manhattan']['price_new']\n",
    "price_B=df1[df1[\"neighbourhood_group\"]=='Brooklyn']['price_new']"
   ]
  },
  {
   "cell_type": "code",
   "execution_count": 6,
   "metadata": {},
   "outputs": [],
   "source": [
    "#Apply the Welch’s t-test, equal_var=False\n",
    "ttest_price_M_B=stats.ttest_ind(price_M,price_B,equal_var=False)"
   ]
  },
  {
   "cell_type": "code",
   "execution_count": 7,
   "metadata": {},
   "outputs": [
    {
     "data": {
      "text/plain": [
       "Ttest_indResult(statistic=67.45696745452888, pvalue=0.0)"
      ]
     },
     "execution_count": 7,
     "metadata": {},
     "output_type": "execute_result"
    }
   ],
   "source": [
    "ttest_price_M_B"
   ]
  },
  {
   "cell_type": "markdown",
   "metadata": {},
   "source": [
    "If we consider the significance level to be at 5%, then to accept the null hypothesis, our p-value should be more than the chosen significance level.As per above test our p_value is Zero less than the significance value 5%, then reject null hypothesis(H0). The ttest indicates that our mean price of Manhattan and Brooklyn are different."
   ]
  },
  {
   "cell_type": "markdown",
   "metadata": {},
   "source": [
    "# ztest for mean of prices (Queens and Staten Island)"
   ]
  },
  {
   "cell_type": "code",
   "execution_count": 8,
   "metadata": {},
   "outputs": [],
   "source": [
    "#load the ztest standard library\n",
    "from statsmodels.stats.weightstats import ztest"
   ]
  },
  {
   "cell_type": "code",
   "execution_count": 9,
   "metadata": {},
   "outputs": [],
   "source": [
    "#H0 : the null hypothesis in this dataset where, mean(Queens) = mean(Staten Island) significantly similar.\n",
    "#H1 : the alternative hypothesis in this dataset where, mean(Queens) != mean(Staten Island) significantly different."
   ]
  },
  {
   "cell_type": "code",
   "execution_count": 10,
   "metadata": {},
   "outputs": [],
   "source": [
    "price_Q=df1[df1[\"neighbourhood_group\"]=='Queens']['price_new']\n",
    "price_S=df1[df1[\"neighbourhood_group\"]=='Staten Island']['price_new']"
   ]
  },
  {
   "cell_type": "code",
   "execution_count": 11,
   "metadata": {},
   "outputs": [
    {
     "data": {
      "text/plain": [
       "(-0.2598037948249568, 0.7950151236018372)"
      ]
     },
     "execution_count": 11,
     "metadata": {},
     "output_type": "execute_result"
    }
   ],
   "source": [
    "ztest(price_Q,price_S)"
   ]
  },
  {
   "cell_type": "markdown",
   "metadata": {},
   "source": [
    "If we consider the significance level to be at 5%, then to accept the null hypothesis, our p-value should be more than the chosen significance level.As per above ztest our p_value=0.79 more than the significance value 5%, then accept null hypothesis(H0). The ztest indicates that our mean price of Queens and Staten Island are not statistically significantly different from each other."
   ]
  },
  {
   "cell_type": "markdown",
   "metadata": {},
   "source": [
    "# ztest for mean of prices (Private room and Shared room)"
   ]
  },
  {
   "cell_type": "code",
   "execution_count": 12,
   "metadata": {},
   "outputs": [],
   "source": [
    "#H0 : the null hypothesis in this dataset where, mean(Private) = mean(Shared room) significantly similar.\n",
    "#H1 : the alternative hypothesis in this dataset where, mean(Private) = mean(Shared room) significantly different."
   ]
  },
  {
   "cell_type": "code",
   "execution_count": 13,
   "metadata": {},
   "outputs": [],
   "source": [
    "price_P=df1[df1[\"room_type\"]=='Private room']['price_new']\n",
    "price_S=df1[df1[\"room_type\"]=='Shared room']['price_new']"
   ]
  },
  {
   "cell_type": "code",
   "execution_count": 14,
   "metadata": {},
   "outputs": [
    {
     "data": {
      "text/plain": [
       "(13.327567619847347, 1.6003072579067338e-40)"
      ]
     },
     "execution_count": 14,
     "metadata": {},
     "output_type": "execute_result"
    }
   ],
   "source": [
    "ztest(price_P,price_S)"
   ]
  },
  {
   "cell_type": "markdown",
   "metadata": {},
   "source": [
    "If we consider the significance level to be at 5%, then to accept the null hypothesis, our p-value should be more than the chosen significance level.As per above ztest our p_value=0 less than the significance value 5%, then reject null hypothesis(H0). The ztest indicates that our mean price of Private and Shared room are significantly different."
   ]
  },
  {
   "cell_type": "markdown",
   "metadata": {},
   "source": [
    "### Is there a significant correlation between number of reviews and price of the listing?"
   ]
  },
  {
   "cell_type": "code",
   "execution_count": 15,
   "metadata": {},
   "outputs": [],
   "source": [
    "#H0 : the null hypothesis in this dataset where, number of reviews and prices are correlated significantly similar.\n",
    "#H1 : the alternative hypothesis in this dataset where, number of reviews and prices are not correlated significantly different."
   ]
  },
  {
   "cell_type": "code",
   "execution_count": 16,
   "metadata": {},
   "outputs": [
    {
     "data": {
      "text/plain": [
       "(-0.05839349845692179, 3.3476879756431823e-38)"
      ]
     },
     "execution_count": 16,
     "metadata": {},
     "output_type": "execute_result"
    }
   ],
   "source": [
    "stats.pearsonr(df1['number_of_reviews_new'],df1['price_new'])"
   ]
  },
  {
   "cell_type": "markdown",
   "metadata": {},
   "source": [
    "There is negative correlation between number of reviews and price, Pearson(r) value = -0.05. Hence we reject the null hypothesis because our p_value lies less than the significance value 5%. Therefore number of reviews and prices are significantly different.  "
   ]
  },
  {
   "cell_type": "markdown",
   "metadata": {},
   "source": [
    "### Is there a significant correlation between availability and price of the listing?"
   ]
  },
  {
   "cell_type": "code",
   "execution_count": 17,
   "metadata": {},
   "outputs": [],
   "source": [
    "#H0 : the null hypothesis in this dataset where, availability & prices are correlated significantly similar.\n",
    "#H1 : the alternative hypothesis in this dataset where, availability & prices aren't correlated significantly different."
   ]
  },
  {
   "cell_type": "code",
   "execution_count": 18,
   "metadata": {},
   "outputs": [
    {
     "data": {
      "text/plain": [
       "(0.1037865943143957, 3.6099096668652315e-117)"
      ]
     },
     "execution_count": 18,
     "metadata": {},
     "output_type": "execute_result"
    }
   ],
   "source": [
    "stats.pearsonr(df1['availability_365_new'],df1['price_new'])"
   ]
  },
  {
   "cell_type": "markdown",
   "metadata": {},
   "source": [
    "We conclude i.e there is positive correlation between availability and price, perasonr value = 0.10. As the p-value is shown from the Pearson Correlation test, the p-value is way less than significance level of 0.05. Therefore, we shall reject null hypothesis based on the p-value output from Pearson test. Therefore availability and prices are significantly different."
   ]
  },
  {
   "cell_type": "markdown",
   "metadata": {},
   "source": [
    "### Do listings in one neighbourhood have significantly more reviews per month than another?"
   ]
  },
  {
   "cell_type": "markdown",
   "metadata": {},
   "source": [
    "#H0 : the null hypothesis in this dataset where, neighbourhood_group(Manhattan)&(Brooklyn)[\"number_of_reviews_new\"].mean() significantly similar.\n",
    "#H1 : the alternative hypothesis in this dataset where, neighbourhood_group(Manhattan)&(Brooklyn)[\"number_of_reviews_new\"].mean() is significantly different."
   ]
  },
  {
   "cell_type": "markdown",
   "metadata": {},
   "source": [
    "#sample_M= df1[df1[\"neighbourhood_group\"]==\"Manhattan\"][\"number_of_reviews_new\"]\n",
    "#sample_B= df1[df1[\"neighbourhood_group\"]==\"Brooklyn\"][\"number_of_reviews_new\"]"
   ]
  },
  {
   "cell_type": "code",
   "execution_count": 19,
   "metadata": {},
   "outputs": [
    {
     "name": "stdout",
     "output_type": "stream",
     "text": [
      "Mean_diff_observed: -2.3539258705017847\n"
     ]
    }
   ],
   "source": [
    "N_rep = 365\n",
    "mean_diff = np.empty(N_rep)\n",
    "sample_M= df1[df1[\"neighbourhood_group\"]==\"Manhattan\"][\"number_of_reviews_new\"]\n",
    "sample_B= df1[df1[\"neighbourhood_group\"]==\"Brooklyn\"][\"number_of_reviews_new\"]\n",
    "\n",
    "for i in range(N_rep):\n",
    "    bs_sample = np.random.permutation(df1.number_of_reviews_new)\n",
    "    bs_mean_i = np.mean(bs_sample[:len(sample_M)])\n",
    "    bs_mean_n = np.mean(bs_sample[len(sample_M):])\n",
    "    mean_diff[i] = bs_mean_i - bs_mean_n\n",
    "\n",
    "# Calculate the mean difference between the insured and uninsured\n",
    "mean_diff_observed = np.mean(sample_M) - np.mean(sample_B)\n",
    "print(\"Mean_diff_observed:\",mean_diff_observed)"
   ]
  },
  {
   "cell_type": "code",
   "execution_count": 20,
   "metadata": {},
   "outputs": [
    {
     "name": "stdout",
     "output_type": "stream",
     "text": [
      "0.0\n"
     ]
    }
   ],
   "source": [
    "p_val_permutation = np.sum(mean_diff <= mean_diff_observed)/len(mean_diff)\n",
    "print(p_val_permutation)"
   ]
  },
  {
   "cell_type": "markdown",
   "metadata": {},
   "source": [
    "Now we can conclude that p_value lies more than the significance level 0.05. Therefore we can accept the Null hypothesis i.e Manhattan & Brooklyn reviews per month are significantly similar."
   ]
  },
  {
   "cell_type": "code",
   "execution_count": null,
   "metadata": {},
   "outputs": [],
   "source": []
  }
 ],
 "metadata": {
  "kernelspec": {
   "display_name": "Python 3",
   "language": "python",
   "name": "python3"
  },
  "language_info": {
   "codemirror_mode": {
    "name": "ipython",
    "version": 3
   },
   "file_extension": ".py",
   "mimetype": "text/x-python",
   "name": "python",
   "nbconvert_exporter": "python",
   "pygments_lexer": "ipython3",
   "version": "3.7.4"
  }
 },
 "nbformat": 4,
 "nbformat_minor": 2
}
